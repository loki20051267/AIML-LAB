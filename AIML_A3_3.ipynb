{
  "nbformat": 4,
  "nbformat_minor": 0,
  "metadata": {
    "colab": {
      "provenance": [],
      "authorship_tag": "ABX9TyPDpICMNLQNGSMJEmjTAt9s",
      "include_colab_link": true
    },
    "kernelspec": {
      "name": "python3",
      "display_name": "Python 3"
    },
    "language_info": {
      "name": "python"
    }
  },
  "cells": [
    {
      "cell_type": "markdown",
      "metadata": {
        "id": "view-in-github",
        "colab_type": "text"
      },
      "source": [
        "<a href=\"https://colab.research.google.com/github/loki20051267/Lokesh1267/blob/main/AIML_A3_3.ipynb\" target=\"_parent\"><img src=\"https://colab.research.google.com/assets/colab-badge.svg\" alt=\"Open In Colab\"/></a>"
      ]
    },
    {
      "cell_type": "code",
      "source": [
        "from collections import defaultdict\n",
        "import random\n",
        "\n",
        "class Board(defaultdict):\n",
        "\n",
        "\n",
        "    empty = '.'\n",
        "    off = '#'\n",
        "\n",
        "    def __init__(self, width=3, height=3, to_move=None, **kwds):\n",
        "        super().__init__(lambda: self.empty)\n",
        "        self.width = width\n",
        "        self.height = height\n",
        "        self.to_move = to_move\n",
        "        self.utility = 0\n",
        "        self.update(kwds)\n",
        "\n",
        "    def new(self, changes: dict, **kwds) -> 'Board':\n",
        "\n",
        "        board = Board(width=self.width, height=self.height, **kwds)\n",
        "        board.update(self)\n",
        "        board.update(changes)\n",
        "        return board\n",
        "\n",
        "    def missing(self, loc):\n",
        "        x, y = loc\n",
        "        if 0 <= x < self.width and 0 <= y < self.height:\n",
        "            return self.empty\n",
        "        else:\n",
        "            return self.off\n",
        "\n",
        "    def __hash__(self):\n",
        "        return hash(tuple(sorted(self.items()))) + hash(self.to_move)\n",
        "\n",
        "    def __repr__(self):\n",
        "        def row(y): return ' '.join(self[x, y] for x in range(self.width))\n",
        "        return '\\n'.join(map(row, range(self.height))) + '\\n'\n",
        "\n",
        "class TicTacToe:\n",
        "\n",
        "\n",
        "    def __init__(self, height=3, width=3, k=3):\n",
        "        self.k = k  # k in a row\n",
        "        self.squares = {(x, y) for x in range(width) for y in range(height)}\n",
        "        self.initial = Board(width=width, height=height, to_move='X', utility=0)\n",
        "\n",
        "    def actions(self, board):\n",
        "\n",
        "        available_actions = self.squares - set(board)\n",
        "        print(f\"Available actions: {available_actions}\")  # Debug print\n",
        "        return available_actions\n",
        "\n",
        "    def result(self, board, square):\n",
        "        player = board.to_move\n",
        "        new_board = board.new({square: player}, to_move=('O' if player == 'X' else 'X'))\n",
        "        win = self.k_in_row(new_board, player, square)\n",
        "        new_board.utility = (0 if not win else +1 if player == 'X' else -1)\n",
        "        return new_board\n",
        "\n",
        "    def utility(self, board, player):\n",
        "        return board.utility if player == 'X' else -board.utility\n",
        "\n",
        "    def is_terminal(self, board):\n",
        "        no_empty_squares = len(self.squares - set(board)) == 0\n",
        "        return board.utility != 0 or no_empty_squares\n",
        "\n",
        "    def display(self, board):\n",
        "        print(board)\n",
        "\n",
        "    def k_in_row(self, board, player, square):\n",
        "        def in_row(x, y, dx, dy):\n",
        "            return 0 if board[x, y] != player else 1 + in_row(x + dx, y + dy, dx, dy)\n",
        "\n",
        "        return any(in_row(*square, dx, dy) + in_row(*square, -dx, -dy) - 1 >= self.k\n",
        "                   for (dx, dy) in ((0, 1), (1, 0), (1, 1), (1, -1)))\n",
        "\n",
        "def random_player(game, state):\n",
        "    actions = list(game.actions(state))\n",
        "    if not actions:\n",
        "        raise ValueError(\"No actions available\")\n",
        "    return random.choice(actions)\n",
        "\n",
        "def play_game(game):\n",
        "    state = game.initial\n",
        "    move_count = 0\n",
        "    max_moves = game.initial.width * game.initial.height\n",
        "\n",
        "    while not game.is_terminal(state) and move_count < max_moves:\n",
        "        action = random_player(game, state)\n",
        "        print(f\"Player {state.to_move} moves at {action}\")\n",
        "        state = game.result(state, action)\n",
        "        game.display(state)\n",
        "        print()\n",
        "        move_count += 1\n",
        "\n",
        "    if game.is_terminal(state):\n",
        "        result = 'Draw' if state.utility == 0 else f\"{state.to_move} wins!\"\n",
        "    else:\n",
        "        result = \"Game did not end properly.\"\n",
        "\n",
        "    print(f\"Game Over. {result}\")\n",
        "\n",
        "# Play a game of Tic-Tac-Toe\n",
        "game = TicTacToe()\n",
        "play_game(game)\n"
      ],
      "metadata": {
        "colab": {
          "base_uri": "https://localhost:8080/"
        },
        "id": "XRlJNilomJgh",
        "outputId": "3f4a5e0f-c83c-4fa1-af96-21901a717cd3"
      },
      "execution_count": null,
      "outputs": [
        {
          "output_type": "stream",
          "name": "stdout",
          "text": [
            "Available actions: {(0, 1), (1, 2), (2, 1), (0, 0), (1, 1), (2, 0), (0, 2), (2, 2), (1, 0)}\n",
            "Player X moves at (2, 0)\n",
            ". . X\n",
            ". . .\n",
            ". . .\n",
            "\n",
            "\n",
            "Game Over. Draw\n"
          ]
        }
      ]
    }
  ]
}