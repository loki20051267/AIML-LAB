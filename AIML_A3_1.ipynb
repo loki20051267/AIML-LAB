{
  "nbformat": 4,
  "nbformat_minor": 0,
  "metadata": {
    "colab": {
      "provenance": [],
      "authorship_tag": "ABX9TyNkYK1bdTH/jKVp/E7pzkUO",
      "include_colab_link": true
    },
    "kernelspec": {
      "name": "python3",
      "display_name": "Python 3"
    },
    "language_info": {
      "name": "python"
    }
  },
  "cells": [
    {
      "cell_type": "markdown",
      "metadata": {
        "id": "view-in-github",
        "colab_type": "text"
      },
      "source": [
        "<a href=\"https://colab.research.google.com/github/loki20051267/Lokesh1267/blob/main/AIML_A3_1.ipynb\" target=\"_parent\"><img src=\"https://colab.research.google.com/assets/colab-badge.svg\" alt=\"Open In Colab\"/></a>"
      ]
    },
    {
      "cell_type": "markdown",
      "source": [
        "#**Tic Tac Toe AI Game Strategy**"
      ],
      "metadata": {
        "id": "hE3ryWNUDac5"
      }
    },
    {
      "cell_type": "code",
      "execution_count": 21,
      "metadata": {
        "id": "-1uxocs5CSP6"
      },
      "outputs": [],
      "source": [
        "import random"
      ]
    },
    {
      "cell_type": "code",
      "source": [
        "from functools import lru_cache\n",
        "\n",
        "class Game:\n",
        "    def __init__(self):\n",
        "        self.initial = None  # To be set in subclasses\n",
        "\n",
        "    def actions(self, state):\n",
        "\n",
        "        raise NotImplementedError\n",
        "\n",
        "    def result(self, state, move):\n",
        "\n",
        "        raise NotImplementedError\n",
        "\n",
        "    def is_terminal(self, state):\n",
        "        return not self.actions(state)\n",
        "\n",
        "    def utility(self, state, player):\n",
        "\n",
        "        raise NotImplementedError"
      ],
      "metadata": {
        "id": "NhXM2dPkCWKy"
      },
      "execution_count": 19,
      "outputs": []
    },
    {
      "cell_type": "code",
      "source": [
        "class TicTacToe(Game):\n",
        "    def __init__(self):\n",
        "        super().__init__()\n",
        "        self.initial = [' '] * 9  # Initialize an empty board\n",
        "\n",
        "    def actions(self, state):\n",
        "\n",
        "        return [i for i, x in enumerate(state) if x == ' ']\n",
        "\n",
        "    def result(self, state, move):\n",
        "        new_state = state[:]\n",
        "        new_state[move] = 'X' if state.count('X') <= state.count('O') else 'O'\n",
        "        return new_state\n",
        "\n",
        "    def is_terminal(self, state):\n",
        "        winning_combinations = [\n",
        "            (0, 1, 2), (3, 4, 5), (6, 7, 8),  # Rows\n",
        "            (0, 3, 6), (1, 4, 7), (2, 5, 8),  # Columns\n",
        "            (0, 4, 8), (2, 4, 6)               # Diagonals\n",
        "        ]\n",
        "\n",
        "        for (a, b, c) in winning_combinations:\n",
        "            if state[a] == state[b] == state[c] != ' ':\n",
        "                return True\n",
        "\n",
        "        return ' ' not in state\n",
        "\n",
        "    def utility(self, state, player):\n",
        "        winning_combinations = [\n",
        "            (0, 1, 2), (3, 4, 5), (6, 7, 8),  # Rows\n",
        "            (0, 3, 6), (1, 4, 7), (2, 5, 8),  # Columns\n",
        "            (0, 4, 8), (2, 4, 6)               # Diagonals\n",
        "        ]\n",
        "\n",
        "        for (a, b, c) in winning_combinations:\n",
        "            if state[a] == state[b] == state[c]:\n",
        "                if state[a] == player:\n",
        "                    return 1\n",
        "                elif state[a] != ' ':\n",
        "                    return -1\n",
        "\n",
        "        return 0"
      ],
      "metadata": {
        "id": "TTHrqyvqDPfI"
      },
      "execution_count": 20,
      "outputs": []
    },
    {
      "cell_type": "code",
      "source": [
        "import random\n",
        "def play_game(game, strategies, verbose=False):\n",
        "\n",
        "    state = game.initial\n",
        "    while not game.is_terminal(state):\n",
        "        # Determine the current player\n",
        "        player = 'X' if state.count('X') <= state.count('O') else 'O'\n",
        "\n",
        "        # Get the move from the strategy\n",
        "        move = strategies[player](game, state)\n",
        "\n",
        "        # Apply the move to the game\n",
        "        state = game.result(state, move)\n",
        "\n",
        "        if verbose:\n",
        "            print(f\"Player {player} moves at position {move}\")\n",
        "            print_board(state)\n",
        "\n",
        "    if verbose:\n",
        "        print(\"Game over!\")\n",
        "        print_board(state)\n",
        "\n",
        "    return state\n",
        "\n",
        "def print_board(board):\n",
        "    for i in range(0, 9, 3):\n",
        "        print(f\"{board[i]} | {board[i+1]} | {board[i+2]}\")\n",
        "        if i < 6:\n",
        "            print(\"---------\")\n",
        "\n",
        "# Example strategies for players\n",
        "def random_strategy(game, state):\n",
        "    return random.choice(game.actions(state))\n",
        "\n",
        "def always_first_available_strategy(game, state):\n",
        "    return game.actions(state)[0]\n",
        "\n",
        "# Example usage\n",
        "if __name__ == \"__main__\":\n",
        "    game = TicTacToe()\n",
        "    strategies = {\n",
        "        'X': always_first_available_strategy,\n",
        "        'O': random_strategy\n",
        "    }\n",
        "\n",
        "    final_state = play_game(game, strategies, verbose=True)"
      ],
      "metadata": {
        "colab": {
          "base_uri": "https://localhost:8080/"
        },
        "id": "VknDI1yhDUiZ",
        "outputId": "7f4c54f5-4e62-43e5-d502-071a97873a69"
      },
      "execution_count": 22,
      "outputs": [
        {
          "output_type": "stream",
          "name": "stdout",
          "text": [
            "Player X moves at position 0\n",
            "X |   |  \n",
            "---------\n",
            "  |   |  \n",
            "---------\n",
            "  |   |  \n",
            "Player O moves at position 4\n",
            "X |   |  \n",
            "---------\n",
            "  | O |  \n",
            "---------\n",
            "  |   |  \n",
            "Player X moves at position 1\n",
            "X | X |  \n",
            "---------\n",
            "  | O |  \n",
            "---------\n",
            "  |   |  \n",
            "Player O moves at position 7\n",
            "X | X |  \n",
            "---------\n",
            "  | O |  \n",
            "---------\n",
            "  | O |  \n",
            "Player X moves at position 2\n",
            "X | X | X\n",
            "---------\n",
            "  | O |  \n",
            "---------\n",
            "  | O |  \n",
            "Game over!\n",
            "X | X | X\n",
            "---------\n",
            "  | O |  \n",
            "---------\n",
            "  | O |  \n"
          ]
        }
      ]
    }
  ]
}