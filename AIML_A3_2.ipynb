{
  "nbformat": 4,
  "nbformat_minor": 0,
  "metadata": {
    "colab": {
      "provenance": [],
      "authorship_tag": "ABX9TyPKTtatj4P4Bl/ikKCDOWTA",
      "include_colab_link": true
    },
    "kernelspec": {
      "name": "python3",
      "display_name": "Python 3"
    },
    "language_info": {
      "name": "python"
    }
  },
  "cells": [
    {
      "cell_type": "markdown",
      "metadata": {
        "id": "view-in-github",
        "colab_type": "text"
      },
      "source": [
        "<a href=\"https://colab.research.google.com/github/loki20051267/Lokesh1267/blob/main/AIML_A3_2.ipynb\" target=\"_parent\"><img src=\"https://colab.research.google.com/assets/colab-badge.svg\" alt=\"Open In Colab\"/></a>"
      ]
    },
    {
      "cell_type": "markdown",
      "source": [],
      "metadata": {
        "id": "ALkuqverffyf"
      }
    },
    {
      "cell_type": "code",
      "execution_count": 1,
      "metadata": {
        "id": "VT39AWwaajtt",
        "colab": {
          "base_uri": "https://localhost:8080/"
        },
        "outputId": "6cc9605c-0aba-4818-f4fc-48449944107d"
      },
      "outputs": [
        {
          "output_type": "stream",
          "name": "stdout",
          "text": [
            "MiniMax - Best move: 3\n",
            "Alpha-Beta - Best move: 3\n",
            "X|O|X\n",
            "-+-+-\n",
            " |X|O\n",
            "-+-+-\n",
            " | | \n"
          ]
        }
      ],
      "source": [
        "import math\n",
        "\n",
        "class TicTacToe:\n",
        "    def _init_(self):\n",
        "        self.board = [' ' for _ in range(9)]\n",
        "        self.current_player = 'X'\n",
        "\n",
        "    def is_terminal(self, state):\n",
        "        board = state.board\n",
        "        winning_positions = [\n",
        "            (0, 1, 2), (3, 4, 5), (6, 7, 8),\n",
        "            (0, 3, 6), (1, 4, 7), (2, 5, 8),\n",
        "            (0, 4, 8), (2, 4, 6)\n",
        "        ]\n",
        "        for a, b, c in winning_positions:\n",
        "            if board[a] == board[b] == board[c] and board[a] != ' ':\n",
        "                return True\n",
        "        if ' ' not in board:\n",
        "            return True\n",
        "        return False\n",
        "\n",
        "    def utility(self, state, player):\n",
        "        board = state.board\n",
        "        winning_positions = [\n",
        "            (0, 1, 2), (3, 4, 5), (6, 7, 8),\n",
        "            (0, 3, 6), (1, 4, 7), (2, 5, 8),\n",
        "            (0, 4, 8), (2, 4, 6)\n",
        "        ]\n",
        "        for a, b, c in winning_positions:\n",
        "            if board[a] == board[b] == board[c] and board[a] == player:\n",
        "                return 1  # Player wins\n",
        "            if board[a] == board[b] == board[c] and board[a] != player and board[a] != ' ':\n",
        "                return -1\n",
        "        return 0\n",
        "\n",
        "    def actions(self, state):\n",
        "        return [i for i, x in enumerate(state.board) if x == ' ']\n",
        "\n",
        "    def result(self, state, action):\n",
        "        new_state = TicTacToe()\n",
        "        new_state.board = state.board[:]\n",
        "        new_state.current_player = 'O' if state.current_player == 'X' else 'X'\n",
        "        new_state.board[action] = state.current_player\n",
        "        return new_state\n",
        "\n",
        "    def print_board(self, state):\n",
        "        board = state.board\n",
        "        print(f\"{board[0]}|{board[1]}|{board[2]}\")\n",
        "        print(\"-+-+-\")\n",
        "        print(f\"{board[3]}|{board[4]}|{board[5]}\")\n",
        "        print(\"-+-+-\")\n",
        "        print(f\"{board[6]}|{board[7]}|{board[8]}\")\n",
        "\n",
        "def minimax_search(game, state):\n",
        "    player = state.current_player\n",
        "\n",
        "    def max_value(state):\n",
        "        if game.is_terminal(state):\n",
        "            return game.utility(state, player), None\n",
        "        v, move = -math.inf, None\n",
        "        for a in game.actions(state):\n",
        "            v2, _ = min_value(game.result(state, a))\n",
        "            if v2 > v:\n",
        "                v, move = v2, a\n",
        "        return v, move\n",
        "\n",
        "    def min_value(state):\n",
        "        if game.is_terminal(state):\n",
        "            return game.utility(state, player), None\n",
        "        v, move = math.inf, None\n",
        "        for a in game.actions(state):\n",
        "            v2, _ = max_value(game.result(state, a))\n",
        "            if v2 < v:\n",
        "                v, move = v2, a\n",
        "        return v, move\n",
        "\n",
        "    return max_value(state)\n",
        "\n",
        "def alphabeta_search(game, state):\n",
        "    player = state.current_player\n",
        "\n",
        "    def max_value(state, alpha, beta):\n",
        "        if game.is_terminal(state):\n",
        "            return game.utility(state, player), None\n",
        "        v, move = -math.inf, None\n",
        "        for a in game.actions(state):\n",
        "            v2, _ = min_value(game.result(state, a), alpha, beta)\n",
        "            if v2 > v:\n",
        "                v, move = v2, a\n",
        "            alpha = max(alpha, v)\n",
        "            if v >= beta:\n",
        "                return v, move\n",
        "        return v, move\n",
        "\n",
        "    def min_value(state, alpha, beta):\n",
        "        if game.is_terminal(state):\n",
        "            return game.utility(state, player), None\n",
        "        v, move = math.inf, None\n",
        "        for a in game.actions(state):\n",
        "            v2, _ = max_value(game.result(state, a), alpha, beta)\n",
        "            if v2 < v:\n",
        "                v, move = v2, a\n",
        "            beta = min(beta, v)\n",
        "            if v <= alpha:\n",
        "                return v, move\n",
        "        return v, move\n",
        "\n",
        "    return max_value(state, -math.inf, math.inf)\n",
        "\n",
        "game = TicTacToe()\n",
        "game.board = ['X', 'O', 'X', ' ', 'X', 'O', ' ', ' ', ' ']\n",
        "game.current_player = 'O'\n",
        "\n",
        "value, move = minimax_search(game, game)\n",
        "print(\"MiniMax - Best move:\", move)\n",
        "\n",
        "value, move = alphabeta_search(game, game)\n",
        "print(\"Alpha-Beta - Best move:\", move)\n",
        "\n",
        "game.print_board(game)"
      ]
    }
  ]
}